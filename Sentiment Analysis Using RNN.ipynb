{
 "cells": [
  {
   "cell_type": "markdown",
   "id": "42700935",
   "metadata": {},
   "source": [
    "# Project Requirements"
   ]
  },
  {
   "cell_type": "markdown",
   "id": "2befcd7b",
   "metadata": {},
   "source": [
    "- **Imports**"
   ]
  },
  {
   "cell_type": "code",
   "execution_count": 1,
   "id": "e2f86648",
   "metadata": {},
   "outputs": [],
   "source": [
    "import re\n",
    "import nltk\n",
    "import numpy as np\n",
    "import pandas as pd \n",
    "from warnings import filterwarnings\n",
    "from IPython.display import clear_output\n",
    "filterwarnings(\"ignore\")"
   ]
  },
  {
   "cell_type": "markdown",
   "id": "caff0ab8",
   "metadata": {
    "id": "5M24_bkbtEjs"
   },
   "source": [
    "# Read Data"
   ]
  },
  {
   "cell_type": "code",
   "execution_count": 2,
   "id": "0854df94",
   "metadata": {
    "id": "L8cQKbjWtCZj"
   },
   "outputs": [],
   "source": [
    "df = pd.read_csv(\"data.csv\")"
   ]
  },
  {
   "cell_type": "markdown",
   "id": "f48fa5c3",
   "metadata": {
    "id": "tJ5fLcJtuBNu"
   },
   "source": [
    "# Data Preprocessing"
   ]
  },
  {
   "cell_type": "markdown",
   "id": "81528867",
   "metadata": {},
   "source": [
    "### 1) Text processing:"
   ]
  },
  {
   "cell_type": "markdown",
   "id": "f099a9c1",
   "metadata": {},
   "source": [
    "- **Text Cleaning**\n",
    "    - Use `re` package to remove hyperlinks, twitter marks and styles"
   ]
  },
  {
   "cell_type": "code",
   "execution_count": 5,
   "id": "7d3db8eb",
   "metadata": {
    "colab": {
     "base_uri": "https://localhost:8080/",
     "height": 35
    },
    "id": "cnhX4wsU7hzK",
    "outputId": "a48f15b0-a762-408e-dbeb-736cdd4abfae"
   },
   "outputs": [],
   "source": [
    "def clean(tweet):\n",
    "    tweet=re.sub('(#|@)\\w*',\"\",tweet)# \\w [a-z|A_Z|0-9|_]\n",
    "    tweet=re.sub(\"https?:\\/\\/\\S+\",\"\",tweet)\n",
    "    tweet=re.sub(\"(\\?|!)+\",\" \",tweet)\n",
    "    tweet=re.sub(\"\\s\\d+\\s\",\"\",tweet)\n",
    "    tweet=re.sub(\"(\\.|\\,)+\",\"\",tweet)\n",
    "    tweet=re.sub(\"^\\s+\",\"\",tweet)\n",
    "    tweet=re.sub(\"\\s+$\",\"\",tweet)\n",
    "    return tweet"
   ]
  },
  {
   "cell_type": "code",
   "execution_count": 6,
   "id": "7d96b0bb",
   "metadata": {},
   "outputs": [],
   "source": [
    "def text_processing(tweets):\n",
    "    return [clean(tweet) for tweet in tweets]"
   ]
  },
  {
   "cell_type": "markdown",
   "id": "a0b5c0e9",
   "metadata": {},
   "source": [
    "- **Apply Text preprocessing**"
   ]
  },
  {
   "cell_type": "code",
   "execution_count": 8,
   "id": "481fa1d3",
   "metadata": {},
   "outputs": [],
   "source": [
    "tweets = df.Tweet\n",
    "tweets = text_processing(tweets)"
   ]
  },
  {
   "cell_type": "code",
   "execution_count": 11,
   "id": "2178994d",
   "metadata": {},
   "outputs": [],
   "source": [
    "texts = tweets\n",
    "labels = df.rate.values"
   ]
  },
  {
   "cell_type": "markdown",
   "id": "0405fb28",
   "metadata": {},
   "source": [
    "# Tokenize the texts"
   ]
  },
  {
   "cell_type": "code",
   "execution_count": 12,
   "id": "4107e9de",
   "metadata": {},
   "outputs": [],
   "source": [
    "from tensorflow.keras.preprocessing.text import Tokenizer"
   ]
  },
  {
   "cell_type": "markdown",
   "id": "259dc080",
   "metadata": {},
   "source": [
    "- **Build the tokenizer**"
   ]
  },
  {
   "cell_type": "code",
   "execution_count": 19,
   "id": "5688951a",
   "metadata": {},
   "outputs": [],
   "source": [
    "tokenizer = Tokenizer()\n",
    "tokenizer.fit_on_texts(texts)"
   ]
  },
  {
   "cell_type": "markdown",
   "id": "67d7f62f",
   "metadata": {},
   "source": [
    "- **Tokenize:** to Convert text to sequences"
   ]
  },
  {
   "cell_type": "code",
   "execution_count": 25,
   "id": "b57ba325",
   "metadata": {},
   "outputs": [],
   "source": [
    "sequences = tokenizer.texts_to_sequences(texts)"
   ]
  },
  {
   "cell_type": "code",
   "execution_count": 26,
   "id": "6b8e0d08",
   "metadata": {},
   "outputs": [
    {
     "data": {
      "text/plain": [
       "(10000,)"
      ]
     },
     "execution_count": 26,
     "metadata": {},
     "output_type": "execute_result"
    }
   ],
   "source": [
    "np.shape(sequences)"
   ]
  },
  {
   "cell_type": "markdown",
   "id": "8d86093e",
   "metadata": {},
   "source": [
    "# Pad sequences to have the same length"
   ]
  },
  {
   "cell_type": "code",
   "execution_count": 28,
   "id": "a19a8b88",
   "metadata": {},
   "outputs": [],
   "source": [
    "from tensorflow.keras.preprocessing.sequence import pad_sequences"
   ]
  },
  {
   "cell_type": "code",
   "execution_count": 29,
   "id": "3adbe977",
   "metadata": {},
   "outputs": [],
   "source": [
    "padded_sequences = pad_sequences(sequences, maxlen=None) # maxlen --> Optional Int, maximum length of all sequences. If not provided, sequences will be padded to the length of the longest individual sequence."
   ]
  },
  {
   "cell_type": "code",
   "execution_count": 30,
   "id": "ffc3fcf2",
   "metadata": {},
   "outputs": [
    {
     "data": {
      "text/plain": [
       "(10000, 31)"
      ]
     },
     "execution_count": 30,
     "metadata": {},
     "output_type": "execute_result"
    }
   ],
   "source": [
    "padded_sequences.shape"
   ]
  },
  {
   "cell_type": "markdown",
   "id": "69c19a53",
   "metadata": {},
   "source": [
    "# Model"
   ]
  },
  {
   "cell_type": "code",
   "execution_count": 32,
   "id": "07db71be",
   "metadata": {},
   "outputs": [],
   "source": [
    "from tensorflow.keras.models import Sequential\n",
    "from tensorflow.keras.layers import Embedding, Dense, SimpleRNN"
   ]
  },
  {
   "cell_type": "code",
   "execution_count": 33,
   "id": "2ffb4f38",
   "metadata": {},
   "outputs": [],
   "source": [
    "embedding_dim = 16\n",
    "vocab_size = len(tokenizer.word_index) + 1\n",
    "# print(tokenizer.word_index)"
   ]
  },
  {
   "cell_type": "code",
   "execution_count": 34,
   "id": "6acf37d2",
   "metadata": {},
   "outputs": [],
   "source": [
    "model = Sequential()\n",
    "model.add(Embedding(input_dim=vocab_size, output_dim=embedding_dim, input_length=padded_sequences.shape[1]))\n",
    "model.add(SimpleRNN(64))\n",
    "model.add(Dense(1, activation='sigmoid'))"
   ]
  },
  {
   "cell_type": "code",
   "execution_count": 35,
   "id": "4b680cb4",
   "metadata": {},
   "outputs": [],
   "source": [
    "model.compile(optimizer='adam', loss='binary_crossentropy', metrics=['accuracy'])"
   ]
  },
  {
   "cell_type": "code",
   "execution_count": null,
   "id": "4a5e1ef2",
   "metadata": {},
   "outputs": [
    {
     "name": "stdout",
     "output_type": "stream",
     "text": [
      "Epoch 1/10\n",
      "10000/10000 [==============================] - 122s 12ms/step - loss: 0.4303 - accuracy: 0.7995\n",
      "Epoch 2/10\n",
      "10000/10000 [==============================] - 122s 12ms/step - loss: 0.3631 - accuracy: 0.8458\n",
      "Epoch 3/10\n",
      " 2617/10000 [======>.......................] - ETA: 1:23 - loss: 0.3117 - accuracy: 0.8659"
     ]
    }
   ],
   "source": [
    "model.fit(padded_sequences, labels, epochs=10, batch_size=1)"
   ]
  },
  {
   "cell_type": "markdown",
   "id": "9e0a3479",
   "metadata": {},
   "source": [
    "# Prediction"
   ]
  },
  {
   "cell_type": "code",
   "execution_count": 77,
   "id": "4dc6d0f3",
   "metadata": {},
   "outputs": [],
   "source": [
    "X = [\"I loved it!\"]"
   ]
  },
  {
   "cell_type": "code",
   "execution_count": 78,
   "id": "5160d537",
   "metadata": {},
   "outputs": [],
   "source": [
    "new_sequences = tokenizer.texts_to_sequences(X)\n",
    "new_padded_sequences = pad_sequences(new_sequences, maxlen=padded_sequences.shape[1])"
   ]
  },
  {
   "cell_type": "code",
   "execution_count": 79,
   "id": "2180ee06",
   "metadata": {},
   "outputs": [
    {
     "name": "stdout",
     "output_type": "stream",
     "text": [
      "1/1 [==============================] - 0s 488ms/step\n"
     ]
    }
   ],
   "source": [
    "predictions = model.predict(new_padded_sequences)"
   ]
  },
  {
   "cell_type": "code",
   "execution_count": 80,
   "id": "76a09ba0",
   "metadata": {},
   "outputs": [
    {
     "data": {
      "text/plain": [
       "'Negative'"
      ]
     },
     "execution_count": 80,
     "metadata": {},
     "output_type": "execute_result"
    }
   ],
   "source": [
    "\"Positive\" if predictions[0, 0] > .5 else \"Negative\""
   ]
  },
  {
   "cell_type": "code",
   "execution_count": 81,
   "id": "1b171566",
   "metadata": {},
   "outputs": [
    {
     "data": {
      "text/plain": [
       "array([[0.4579138]], dtype=float32)"
      ]
     },
     "execution_count": 81,
     "metadata": {},
     "output_type": "execute_result"
    }
   ],
   "source": [
    "predictions"
   ]
  },
  {
   "cell_type": "code",
   "execution_count": null,
   "id": "f2211086",
   "metadata": {},
   "outputs": [],
   "source": []
  },
  {
   "cell_type": "code",
   "execution_count": null,
   "id": "4e1246e7",
   "metadata": {},
   "outputs": [],
   "source": []
  }
 ],
 "metadata": {
  "kernelspec": {
   "display_name": "Python 3 (ipykernel)",
   "language": "python",
   "name": "python3"
  },
  "language_info": {
   "codemirror_mode": {
    "name": "ipython",
    "version": 3
   },
   "file_extension": ".py",
   "mimetype": "text/x-python",
   "name": "python",
   "nbconvert_exporter": "python",
   "pygments_lexer": "ipython3",
   "version": "3.10.9"
  }
 },
 "nbformat": 4,
 "nbformat_minor": 5
}
